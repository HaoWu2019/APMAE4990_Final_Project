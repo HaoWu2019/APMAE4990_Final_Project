{
 "cells": [
  {
   "cell_type": "markdown",
   "metadata": {},
   "source": [
    "## Random Forest GridSerachCv"
   ]
  },
  {
   "cell_type": "code",
   "execution_count": 3,
   "metadata": {},
   "outputs": [],
   "source": [
    "import numpy as np\n",
    "import pandas as pd\n",
    "from sklearn.model_selection import train_test_split\n",
    "from sklearn import preprocessing\n",
    "from sklearn.ensemble import RandomForestRegressor\n",
    "from sklearn.model_selection import GridSearchCV \n",
    "from sklearn.externals import joblib\n",
    "from sklearn.metrics import mean_squared_error,mean_squared_log_error , r2_score"
   ]
  },
  {
   "cell_type": "code",
   "execution_count": 4,
   "metadata": {},
   "outputs": [],
   "source": [
    "df = pd.read_csv('cleanned_500_final.csv')"
   ]
  },
  {
   "cell_type": "code",
   "execution_count": 5,
   "metadata": {},
   "outputs": [],
   "source": [
    "df_final = df.drop(['pickup_datetime', 'dropoff_datetime','trip_distance','fare_amount','date_of_year2','year','mo','da','prcp','my_date','week','temp','pickup_geohash','dropoff_geohash','gh','travel_time_shift','travel_time_shift_1','travel_dist_shift','travel_dist_shift_1','fare_amount_shift','fare_amount_shift','fare_amount_shift_1'],axis=1)"
   ]
  },
  {
   "cell_type": "code",
   "execution_count": 6,
   "metadata": {},
   "outputs": [],
   "source": [
    "X = df_final.drop(['travel_time'],axis =1)\n",
    "y = df_final['travel_time']"
   ]
  },
  {
   "cell_type": "code",
   "execution_count": 7,
   "metadata": {},
   "outputs": [
    {
     "data": {
      "text/plain": [
       "Index(['pickup_longitude', 'pickup_latitude', 'dropoff_longitude',\n",
       "       'dropoff_latitude', 'visib', 'wdsp', 'fog', 'rain_drizzle',\n",
       "       'snow_ice_pellets', 'Hour', 'distance_in_km', 'week_index',\n",
       "       'rain_Light', 'rain_Moderate', 'rain_No', 'rush_hour_ind',\n",
       "       'avg_travel_time', 'avg_hr_travel_time', 'avg_trip_dist',\n",
       "       'avg_hr_trip_dist', 'avg_fare_amount', 'avg_hr_fare_amount'],\n",
       "      dtype='object')"
      ]
     },
     "execution_count": 7,
     "metadata": {},
     "output_type": "execute_result"
    }
   ],
   "source": [
    "X.columns"
   ]
  },
  {
   "cell_type": "code",
   "execution_count": 20,
   "metadata": {},
   "outputs": [],
   "source": [
    "X_train, X_test, y_train, y_test = train_test_split(\n",
    "    X, y, test_size=0.2, random_state=42)"
   ]
  },
  {
   "cell_type": "code",
   "execution_count": 22,
   "metadata": {},
   "outputs": [],
   "source": [
    "def get_grid_cv(X_train,y_train,model,param_grid,fold,core):\n",
    "    grid_search = GridSearchCV(model, param_grid, cv=fold,\n",
    "    scoring='neg_mean_squared_error',n_jobs = core,verbose =2) \n",
    "    grid_search.fit(X_train,y_train)\n",
    "    return grid_search"
   ]
  },
  {
   "cell_type": "markdown",
   "metadata": {},
   "source": [
    "#### Tuning max_features"
   ]
  },
  {
   "cell_type": "code",
   "execution_count": 11,
   "metadata": {},
   "outputs": [
    {
     "name": "stdout",
     "output_type": "stream",
     "text": [
      "Fitting 5 folds for each of 2 candidates, totalling 10 fits\n"
     ]
    },
    {
     "name": "stderr",
     "output_type": "stream",
     "text": [
      "[Parallel(n_jobs=2)]: Using backend LokyBackend with 2 concurrent workers.\n",
      "[Parallel(n_jobs=2)]: Done  10 out of  10 | elapsed:  4.4min finished\n",
      "C:\\Users\\xiaxi\\Anaconda3\\lib\\site-packages\\sklearn\\ensemble\\forest.py:246: FutureWarning: The default value of n_estimators will change from 10 in version 0.20 to 100 in 0.22.\n",
      "  \"10 in version 0.20 to 100 in 0.22.\", FutureWarning)\n"
     ]
    }
   ],
   "source": [
    "grid_max_features= get_grid_cv(X_train,y_train,RandomForestRegressor(),\n",
    "                               param_grid = {'max_features':['sqrt','log2']},fold=5,core =2)"
   ]
  },
  {
   "cell_type": "code",
   "execution_count": 12,
   "metadata": {},
   "outputs": [
    {
     "data": {
      "text/plain": [
       "['Grid_cv_max_features_result']"
      ]
     },
     "execution_count": 12,
     "metadata": {},
     "output_type": "execute_result"
    }
   ],
   "source": [
    "joblib.dump(grid_max_features, 'Grid_cv_max_features_result')"
   ]
  },
  {
   "cell_type": "code",
   "execution_count": 13,
   "metadata": {},
   "outputs": [
    {
     "data": {
      "text/plain": [
       "{'max_features': 'sqrt'}"
      ]
     },
     "execution_count": 13,
     "metadata": {},
     "output_type": "execute_result"
    }
   ],
   "source": [
    "grid_max_features.best_params_"
   ]
  },
  {
   "cell_type": "code",
   "execution_count": 14,
   "metadata": {},
   "outputs": [
    {
     "name": "stdout",
     "output_type": "stream",
     "text": [
      "274.180811661454 {'max_features': 'sqrt'}\n",
      "274.26146478836404 {'max_features': 'log2'}\n"
     ]
    }
   ],
   "source": [
    "c = grid_max_features.cv_results_\n",
    "for mean_score, params in zip(c[\"mean_test_score\"], c[\"params\"]): \n",
    "    print(np.sqrt(-mean_score), params)"
   ]
  },
  {
   "cell_type": "markdown",
   "metadata": {},
   "source": [
    "#### Tuning n_estimators"
   ]
  },
  {
   "cell_type": "code",
   "execution_count": 13,
   "metadata": {},
   "outputs": [
    {
     "name": "stdout",
     "output_type": "stream",
     "text": [
      "Fitting 5 folds for each of 4 candidates, totalling 20 fits\n",
      "[CV] n_estimators=10 .................................................\n"
     ]
    },
    {
     "name": "stderr",
     "output_type": "stream",
     "text": [
      "[Parallel(n_jobs=1)]: Using backend SequentialBackend with 1 concurrent workers.\n"
     ]
    },
    {
     "name": "stdout",
     "output_type": "stream",
     "text": [
      "[CV] .................................. n_estimators=10, total=  49.2s\n",
      "[CV] n_estimators=10 .................................................\n"
     ]
    },
    {
     "name": "stderr",
     "output_type": "stream",
     "text": [
      "[Parallel(n_jobs=1)]: Done   1 out of   1 | elapsed:   58.5s remaining:    0.0s\n"
     ]
    },
    {
     "name": "stdout",
     "output_type": "stream",
     "text": [
      "[CV] .................................. n_estimators=10, total=  48.7s\n",
      "[CV] n_estimators=10 .................................................\n",
      "[CV] .................................. n_estimators=10, total=  46.2s\n",
      "[CV] n_estimators=10 .................................................\n",
      "[CV] .................................. n_estimators=10, total=  44.8s\n",
      "[CV] n_estimators=10 .................................................\n",
      "[CV] .................................. n_estimators=10, total=  45.2s\n",
      "[CV] n_estimators=50 .................................................\n",
      "[CV] .................................. n_estimators=50, total= 3.6min\n",
      "[CV] n_estimators=50 .................................................\n",
      "[CV] .................................. n_estimators=50, total= 3.5min\n",
      "[CV] n_estimators=50 .................................................\n",
      "[CV] .................................. n_estimators=50, total= 3.5min\n",
      "[CV] n_estimators=50 .................................................\n",
      "[CV] .................................. n_estimators=50, total= 3.5min\n",
      "[CV] n_estimators=50 .................................................\n",
      "[CV] .................................. n_estimators=50, total= 3.5min\n",
      "[CV] n_estimators=100 ................................................\n",
      "[CV] ................................. n_estimators=100, total= 7.1min\n",
      "[CV] n_estimators=100 ................................................\n",
      "[CV] ................................. n_estimators=100, total= 7.2min\n",
      "[CV] n_estimators=100 ................................................\n",
      "[CV] ................................. n_estimators=100, total= 7.1min\n",
      "[CV] n_estimators=100 ................................................\n",
      "[CV] ................................. n_estimators=100, total= 7.0min\n",
      "[CV] n_estimators=100 ................................................\n",
      "[CV] ................................. n_estimators=100, total= 7.1min\n",
      "[CV] n_estimators=150 ................................................\n",
      "[CV] ................................. n_estimators=150, total=11.7min\n",
      "[CV] n_estimators=150 ................................................\n",
      "[CV] ................................. n_estimators=150, total=11.6min\n",
      "[CV] n_estimators=150 ................................................\n",
      "[CV] ................................. n_estimators=150, total=12.4min\n",
      "[CV] n_estimators=150 ................................................\n",
      "[CV] ................................. n_estimators=150, total=11.4min\n",
      "[CV] n_estimators=150 ................................................\n",
      "[CV] ................................. n_estimators=150, total=11.9min\n"
     ]
    },
    {
     "name": "stderr",
     "output_type": "stream",
     "text": [
      "[Parallel(n_jobs=1)]: Done  20 out of  20 | elapsed: 137.0min finished\n"
     ]
    }
   ],
   "source": [
    "grid_n_estimators = get_grid_cv(X_train,y_train,RandomForestRegressor(max_features='sqrt'),param_grid = {'n_estimators':[10,50,100,150]},fold=5,core=1)"
   ]
  },
  {
   "cell_type": "code",
   "execution_count": 14,
   "metadata": {},
   "outputs": [
    {
     "data": {
      "text/plain": [
       "['Grid_cv_n_estimators_result']"
      ]
     },
     "execution_count": 14,
     "metadata": {},
     "output_type": "execute_result"
    }
   ],
   "source": [
    "joblib.dump(grid_n_estimators, 'Grid_cv_n_estimators_result')"
   ]
  },
  {
   "cell_type": "code",
   "execution_count": 15,
   "metadata": {},
   "outputs": [
    {
     "data": {
      "text/plain": [
       "{'n_estimators': 150}"
      ]
     },
     "execution_count": 15,
     "metadata": {},
     "output_type": "execute_result"
    }
   ],
   "source": [
    "grid_n_estimators.best_params_"
   ]
  },
  {
   "cell_type": "code",
   "execution_count": 16,
   "metadata": {},
   "outputs": [
    {
     "name": "stdout",
     "output_type": "stream",
     "text": [
      "274.32309299058255 {'n_estimators': 10}\n",
      "261.976664251011 {'n_estimators': 50}\n",
      "260.3871323079512 {'n_estimators': 100}\n",
      "259.94605593654836 {'n_estimators': 150}\n"
     ]
    }
   ],
   "source": [
    "c = grid_n_estimators.cv_results_\n",
    "for mean_score, params in zip(c[\"mean_test_score\"], c[\"params\"]): \n",
    "    print(np.sqrt(-mean_score), params)"
   ]
  },
  {
   "cell_type": "markdown",
   "metadata": {},
   "source": [
    "\n",
    "#### Tuning max_depth\n"
   ]
  },
  {
   "cell_type": "code",
   "execution_count": 25,
   "metadata": {},
   "outputs": [
    {
     "name": "stdout",
     "output_type": "stream",
     "text": [
      "Fitting 5 folds for each of 9 candidates, totalling 45 fits\n",
      "[CV] max_depth=10 ....................................................\n"
     ]
    },
    {
     "name": "stderr",
     "output_type": "stream",
     "text": [
      "[Parallel(n_jobs=1)]: Using backend SequentialBackend with 1 concurrent workers.\n"
     ]
    },
    {
     "name": "stdout",
     "output_type": "stream",
     "text": [
      "[CV] ..................................... max_depth=10, total= 4.7min\n",
      "[CV] max_depth=10 ....................................................\n"
     ]
    },
    {
     "name": "stderr",
     "output_type": "stream",
     "text": [
      "[Parallel(n_jobs=1)]: Done   1 out of   1 | elapsed:  5.0min remaining:    0.0s\n"
     ]
    },
    {
     "name": "stdout",
     "output_type": "stream",
     "text": [
      "[CV] ..................................... max_depth=10, total= 4.7min\n",
      "[CV] max_depth=10 ....................................................\n",
      "[CV] ..................................... max_depth=10, total= 4.7min\n",
      "[CV] max_depth=10 ....................................................\n",
      "[CV] ..................................... max_depth=10, total= 5.0min\n",
      "[CV] max_depth=10 ....................................................\n",
      "[CV] ..................................... max_depth=10, total= 4.9min\n",
      "[CV] max_depth=15 ....................................................\n",
      "[CV] ..................................... max_depth=15, total= 6.8min\n",
      "[CV] max_depth=15 ....................................................\n",
      "[CV] ..................................... max_depth=15, total= 6.7min\n",
      "[CV] max_depth=15 ....................................................\n",
      "[CV] ..................................... max_depth=15, total= 6.7min\n",
      "[CV] max_depth=15 ....................................................\n",
      "[CV] ..................................... max_depth=15, total= 6.7min\n",
      "[CV] max_depth=15 ....................................................\n",
      "[CV] ..................................... max_depth=15, total= 6.7min\n",
      "[CV] max_depth=20 ....................................................\n",
      "[CV] ..................................... max_depth=20, total= 8.3min\n",
      "[CV] max_depth=20 ....................................................\n",
      "[CV] ..................................... max_depth=20, total= 8.1min\n",
      "[CV] max_depth=20 ....................................................\n",
      "[CV] ..................................... max_depth=20, total= 8.1min\n",
      "[CV] max_depth=20 ....................................................\n",
      "[CV] ..................................... max_depth=20, total= 8.1min\n",
      "[CV] max_depth=20 ....................................................\n",
      "[CV] ..................................... max_depth=20, total= 8.1min\n",
      "[CV] max_depth=25 ....................................................\n",
      "[CV] ..................................... max_depth=25, total= 9.5min\n",
      "[CV] max_depth=25 ....................................................\n",
      "[CV] ..................................... max_depth=25, total= 9.3min\n",
      "[CV] max_depth=25 ....................................................\n",
      "[CV] ..................................... max_depth=25, total= 9.3min\n",
      "[CV] max_depth=25 ....................................................\n",
      "[CV] ..................................... max_depth=25, total= 9.3min\n",
      "[CV] max_depth=25 ....................................................\n",
      "[CV] ..................................... max_depth=25, total= 9.6min\n",
      "[CV] max_depth=30 ....................................................\n",
      "[CV] ..................................... max_depth=30, total=10.5min\n",
      "[CV] max_depth=30 ....................................................\n",
      "[CV] ..................................... max_depth=30, total=10.2min\n",
      "[CV] max_depth=30 ....................................................\n",
      "[CV] ..................................... max_depth=30, total=11.7min\n",
      "[CV] max_depth=30 ....................................................\n",
      "[CV] ..................................... max_depth=30, total=10.4min\n",
      "[CV] max_depth=30 ....................................................\n",
      "[CV] ..................................... max_depth=30, total=10.2min\n",
      "[CV] max_depth=35 ....................................................\n",
      "[CV] ..................................... max_depth=35, total=11.4min\n",
      "[CV] max_depth=35 ....................................................\n",
      "[CV] ..................................... max_depth=35, total=12.6min\n",
      "[CV] max_depth=35 ....................................................\n",
      "[CV] ..................................... max_depth=35, total=11.3min\n",
      "[CV] max_depth=35 ....................................................\n",
      "[CV] ..................................... max_depth=35, total=11.8min\n",
      "[CV] max_depth=35 ....................................................\n",
      "[CV] ..................................... max_depth=35, total=11.2min\n",
      "[CV] max_depth=40 ....................................................\n",
      "[CV] ..................................... max_depth=40, total=12.1min\n",
      "[CV] max_depth=40 ....................................................\n",
      "[CV] ..................................... max_depth=40, total=11.4min\n",
      "[CV] max_depth=40 ....................................................\n",
      "[CV] ..................................... max_depth=40, total=11.9min\n",
      "[CV] max_depth=40 ....................................................\n",
      "[CV] ..................................... max_depth=40, total=11.4min\n",
      "[CV] max_depth=40 ....................................................\n",
      "[CV] ..................................... max_depth=40, total=11.5min\n",
      "[CV] max_depth=45 ....................................................\n",
      "[CV] ..................................... max_depth=45, total=11.9min\n",
      "[CV] max_depth=45 ....................................................\n",
      "[CV] ..................................... max_depth=45, total=11.2min\n",
      "[CV] max_depth=45 ....................................................\n",
      "[CV] ..................................... max_depth=45, total=11.2min\n",
      "[CV] max_depth=45 ....................................................\n",
      "[CV] ..................................... max_depth=45, total=11.3min\n",
      "[CV] max_depth=45 ....................................................\n",
      "[CV] ..................................... max_depth=45, total=11.6min\n",
      "[CV] max_depth=50 ....................................................\n",
      "[CV] ..................................... max_depth=50, total=11.1min\n",
      "[CV] max_depth=50 ....................................................\n",
      "[CV] ..................................... max_depth=50, total=10.9min\n",
      "[CV] max_depth=50 ....................................................\n",
      "[CV] ..................................... max_depth=50, total=11.1min\n",
      "[CV] max_depth=50 ....................................................\n",
      "[CV] ..................................... max_depth=50, total=11.3min\n",
      "[CV] max_depth=50 ....................................................\n",
      "[CV] ..................................... max_depth=50, total=11.1min\n"
     ]
    },
    {
     "name": "stderr",
     "output_type": "stream",
     "text": [
      "[Parallel(n_jobs=1)]: Done  45 out of  45 | elapsed: 491.2min finished\n"
     ]
    }
   ],
   "source": [
    "grid_max_depth = get_grid_cv(X_train,y_train,RandomForestRegressor(max_features='sqrt',n_estimators=150),param_grid = {'max_depth':[10,15,20,25,30,35,40,45,50]},fold=5,core=1)"
   ]
  },
  {
   "cell_type": "code",
   "execution_count": 27,
   "metadata": {},
   "outputs": [
    {
     "data": {
      "text/plain": [
       "{'max_depth': 40}"
      ]
     },
     "execution_count": 27,
     "metadata": {},
     "output_type": "execute_result"
    }
   ],
   "source": [
    "grid_max_depth.best_params_"
   ]
  },
  {
   "cell_type": "code",
   "execution_count": 36,
   "metadata": {},
   "outputs": [
    {
     "data": {
      "text/plain": [
       "['Grid_cv_max_depth_result']"
      ]
     },
     "execution_count": 36,
     "metadata": {},
     "output_type": "execute_result"
    }
   ],
   "source": [
    "joblib.dump(grid_max_depth, 'Grid_cv_max_depth_result')"
   ]
  },
  {
   "cell_type": "code",
   "execution_count": 28,
   "metadata": {},
   "outputs": [
    {
     "name": "stdout",
     "output_type": "stream",
     "text": [
      "279.88643516041896 {'max_depth': 10}\n",
      "269.1569721074578 {'max_depth': 15}\n",
      "263.2498841060312 {'max_depth': 20}\n",
      "260.83906220499335 {'max_depth': 25}\n",
      "260.05416564457767 {'max_depth': 30}\n",
      "259.97025012168666 {'max_depth': 35}\n",
      "259.9262319019994 {'max_depth': 40}\n",
      "259.93478510557196 {'max_depth': 45}\n",
      "259.9376289603212 {'max_depth': 50}\n"
     ]
    }
   ],
   "source": [
    "c = grid_max_depth.cv_results_\n",
    "for mean_score, params in zip(c[\"mean_test_score\"], c[\"params\"]): \n",
    "    print(np.sqrt(-mean_score), params)"
   ]
  },
  {
   "cell_type": "code",
   "execution_count": 53,
   "metadata": {},
   "outputs": [],
   "source": [
    "depth = [10,15,20,25,30,35,40,45,50]\n",
    "RMSE_test =[np.sqrt(-x) for x in grid_max_depth.cv_results_['mean_test_score']]"
   ]
  },
  {
   "cell_type": "code",
   "execution_count": 57,
   "metadata": {},
   "outputs": [
    {
     "data": {
      "text/plain": [
       "<function matplotlib.pyplot.show(*args, **kw)>"
      ]
     },
     "execution_count": 57,
     "metadata": {},
     "output_type": "execute_result"
    },
    {
     "data": {
      "image/png": "[encoded data removed]",
      "text/plain": [
       "<Figure size 432x288 with 1 Axes>"
      ]
     },
     "metadata": {
      "needs_background": "light"
     },
     "output_type": "display_data"
    }
   ],
   "source": [
    "plt.plot(depth,RMSE_test)\n",
    "plt.title('Root mean square error over depth')\n",
    "plt.xlabel('depth')\n",
    "plt.ylabel('rmse')\n",
    "plt.show"
   ]
  },
  {
   "cell_type": "markdown",
   "metadata": {},
   "source": [
    "### So parameters are : 'max_features': 'sqrt' , 'n_estimators': 150 , 'max_depth' : 40"
   ]
  }
 ],
 "metadata": {
  "kernelspec": {
   "display_name": "Python 3",
   "language": "python",
   "name": "python3"
  },
  "language_info": {
   "codemirror_mode": {
    "name": "ipython",
    "version": 3
   },
   "file_extension": ".py",
   "mimetype": "text/x-python",
   "name": "python",
   "nbconvert_exporter": "python",
   "pygments_lexer": "ipython3",
   "version": "3.6.6"
  }
 },
 "nbformat": 4,
 "nbformat_minor": 2
}
