{
 "cells": [
  {
   "cell_type": "markdown",
   "metadata": {},
   "source": [
    "# Model Selection, Comparison and Cross Validation"
   ]
  },
  {
   "cell_type": "code",
   "execution_count": 2,
   "metadata": {},
   "outputs": [],
   "source": [
    "import numpy as np\n",
    "import pandas as pd\n",
    "from sklearn.model_selection import train_test_split\n",
    "from sklearn import preprocessing\n",
    "from sklearn.linear_model import LassoCV\n",
    "from sklearn.linear_model import LinearRegression\n",
    "from sklearn.ensemble import RandomForestRegressor\n",
    "from sklearn.tree import DecisionTreeRegressor\n",
    "from sklearn.model_selection import GridSearchCV \n",
    "from sklearn.externals import joblib\n",
    "from sklearn.metrics import mean_squared_error,mean_squared_log_error , r2_score\n",
    "import warnings\n",
    "warnings.filterwarnings('ignore')\n",
    "%matplotlib inline"
   ]
  },
  {
   "cell_type": "code",
   "execution_count": 2,
   "metadata": {},
   "outputs": [],
   "source": [
    "def get_grid_cv(X_train,y_train,model,param_grid,fold,core):\n",
    "    grid_search = GridSearchCV(model, param_grid, cv=fold,\n",
    "    scoring='neg_mean_squared_error',n_jobs = core,verbose =2) \n",
    "    grid_search.fit(X_train,y_train)\n",
    "    return grid_search\n",
    "\n",
    "def get_measure(y_test,y_pred):\n",
    "    RMSE =np.sqrt(mean_squared_error(y_test,y_pred))\n",
    "    RMSLE=np.sqrt(mean_squared_log_error(y_test,y_pred))\n",
    "    R_score = r2_score(y_test,y_pred)\n",
    "    print('RMSE:',RMSE,'\\nRMSLE:',RMSLE,'\\nR2:',R_score)\n",
    "\n",
    "def show_cv_results(grid): \n",
    "    c = grid.cv_results_\n",
    "    for mean_score, params in zip(c[\"mean_test_score\"], c[\"params\"]): \n",
    "        print(np.sqrt(-mean_score), params)\n",
    "        "
   ]
  },
  {
   "cell_type": "code",
   "execution_count": 5,
   "metadata": {},
   "outputs": [],
   "source": [
    "df_final = pd.read_csv('cleanned_500_final.csv')"
   ]
  },
  {
   "cell_type": "code",
   "execution_count": 5,
   "metadata": {},
   "outputs": [
    {
     "data": {
      "text/plain": [
       "Index(['pickup_longitude', 'pickup_latitude', 'dropoff_longitude',\n",
       "       'dropoff_latitude', 'visib', 'wdsp', 'fog', 'rain_drizzle',\n",
       "       'snow_ice_pellets', 'Hour', 'distance_in_km', 'travel_time',\n",
       "       'week_index', 'rain_Light', 'rain_Moderate', 'rain_No', 'rush_hour_ind',\n",
       "       'avg_travel_time', 'avg_hr_travel_time', 'avg_trip_dist',\n",
       "       'avg_hr_trip_dist', 'avg_fare_amount', 'avg_hr_fare_amount'],\n",
       "      dtype='object')"
      ]
     },
     "execution_count": 5,
     "metadata": {},
     "output_type": "execute_result"
    }
   ],
   "source": [
    "df_final.columns"
   ]
  },
  {
   "cell_type": "code",
   "execution_count": 8,
   "metadata": {},
   "outputs": [],
   "source": [
    "X = df_final.drop(['travel_time'],axis =1)\n",
    "y = df_final['travel_time']"
   ]
  },
  {
   "cell_type": "markdown",
   "metadata": {},
   "source": [
    "## Linear Regression"
   ]
  },
  {
   "cell_type": "code",
   "execution_count": 9,
   "metadata": {},
   "outputs": [],
   "source": [
    "X_lr = df_final.drop(['pickup_longitude', 'pickup_latitude', 'dropoff_longitude','dropoff_latitude','travel_time'], axis=1)\n",
    "X_scaled = preprocessing.scale(X_lr)\n",
    "\n",
    "X_train, X_test, y_train, y_test = train_test_split(\n",
    "    X_scaled,y, test_size=0.2, random_state=42)\n",
    "\n",
    "linear_clf = LinearRegression()\n",
    "linear_clf.fit(X_train,y_train)\n",
    "y_pred = linear_clf.predict(X_test)"
   ]
  },
  {
   "cell_type": "code",
   "execution_count": 10,
   "metadata": {
    "scrolled": false
   },
   "outputs": [
    {
     "name": "stdout",
     "output_type": "stream",
     "text": [
      "RMSE: 305.82654604003386 \n",
      "r2: 0.644091905678726\n"
     ]
    }
   ],
   "source": [
    "#rmsle = np.sqrt(mean_squared_log_error(y_test,y_pred))\n",
    "rmse = np.sqrt(mean_squared_error(y_test,y_pred))\n",
    "r2 = r2_score(y_test,y_pred)\n",
    "print('RMSE:',rmse,'\\nr2:',r2)"
   ]
  },
  {
   "cell_type": "markdown",
   "metadata": {},
   "source": [
    "## Lasso CV"
   ]
  },
  {
   "cell_type": "code",
   "execution_count": 11,
   "metadata": {},
   "outputs": [],
   "source": [
    "alphas = np.linspace(0.001,1,100)\n",
    "X_scaled = preprocessing.scale(X)\n",
    "X_train, X_test, y_train, y_test = train_test_split(X_scaled, y, test_size=0.2, random_state=42)\n",
    "lasso_lr = LassoCV(alphas=alphas, cv=5, random_state=0, max_iter=1000)\n",
    "lasso_lr.fit(X_train, y_train)\n",
    "y_pred = lasso_lr.predict(X_test)"
   ]
  },
  {
   "cell_type": "code",
   "execution_count": 12,
   "metadata": {},
   "outputs": [
    {
     "name": "stdout",
     "output_type": "stream",
     "text": [
      "Best alpha from CV : 0.001\n"
     ]
    }
   ],
   "source": [
    "print('Best alpha from CV :',lasso_lr.alpha_)"
   ]
  },
  {
   "cell_type": "code",
   "execution_count": 13,
   "metadata": {},
   "outputs": [
    {
     "name": "stdout",
     "output_type": "stream",
     "text": [
      "RMSE: 304.2269750423208 \n",
      "r2: 0.6478051965053115\n"
     ]
    }
   ],
   "source": [
    "#rmsle = np.sqrt(mean_squared_log_error(y_test,y_pred))\n",
    "rmse = np.sqrt(mean_squared_error(y_test,y_pred))\n",
    "r2 = r2_score(y_test,y_pred)\n",
    "print('RMSE:',rmse,'\\nr2:',r2)"
   ]
  },
  {
   "cell_type": "markdown",
   "metadata": {},
   "source": [
    "## Decision Tree"
   ]
  },
  {
   "cell_type": "code",
   "execution_count": 32,
   "metadata": {},
   "outputs": [],
   "source": [
    "X_train, X_test, y_train, y_test = train_test_split(X, y, test_size=0.2, random_state=42)"
   ]
  },
  {
   "cell_type": "code",
   "execution_count": 33,
   "metadata": {},
   "outputs": [],
   "source": [
    "tr_reg = DecisionTreeRegressor()"
   ]
  },
  {
   "cell_type": "code",
   "execution_count": 34,
   "metadata": {},
   "outputs": [],
   "source": [
    "tr_reg.fit(X_train,y_train)\n",
    "y_pred = tr_reg.predict(X_test)"
   ]
  },
  {
   "cell_type": "code",
   "execution_count": 35,
   "metadata": {},
   "outputs": [
    {
     "name": "stdout",
     "output_type": "stream",
     "text": [
      "RMSE: 371.4175069202242 \n",
      "RMSLE: 0.49889966815415265 \n",
      "R2: 0.4750568820586071\n"
     ]
    }
   ],
   "source": [
    "get_measure(y_test,y_pred)"
   ]
  },
  {
   "cell_type": "markdown",
   "metadata": {},
   "source": [
    "## Random Forest GridSearchCV"
   ]
  },
  {
   "cell_type": "markdown",
   "metadata": {},
   "source": [
    "### If you want to do CV, Please set RunCV = True"
   ]
  },
  {
   "cell_type": "code",
   "execution_count": 7,
   "metadata": {
    "collapsed": true
   },
   "outputs": [],
   "source": [
    "RunCV = False #CV consumes time and memory"
   ]
  },
  {
   "cell_type": "code",
   "execution_count": 14,
   "metadata": {},
   "outputs": [],
   "source": [
    "X_train, X_test, y_train, y_test = train_test_split(\n",
    "    X, y, test_size=0.2, random_state=42)"
   ]
  },
  {
   "cell_type": "markdown",
   "metadata": {},
   "source": [
    "### Tuning max_features"
   ]
  },
  {
   "cell_type": "code",
   "execution_count": 8,
   "metadata": {
    "collapsed": true
   },
   "outputs": [],
   "source": [
    "if RunCV:\n",
    "    grid_max_features= get_grid_cv(X_train,y_train,RandomForestRegressor(),\n",
    "                               param_grid = {'max_features':['sqrt','log2']},fold=5,core =2)\n",
    "    #joblib.dump(grid_max_features, 'Grid_cv_max_features_result')\n",
    "    grid_max_features.best_params_"
   ]
  },
  {
   "cell_type": "markdown",
   "metadata": {},
   "source": [
    "### Tuning n_estimators"
   ]
  },
  {
   "cell_type": "code",
   "execution_count": 5,
   "metadata": {
    "collapsed": true
   },
   "outputs": [],
   "source": [
    "if RunCV:\n",
    "    grid_n_estimators = get_grid_cv(X_train,y_train,RandomForestRegressor(max_features='sqrt'),param_grid = {'n_estimators':[10,50,100,150]},fold=5,core=1)\n",
    "    #joblib.dump(grid_n_estimators, 'Grid_cv_n_estimators_result')\n",
    "    grid_n_estimators.best_params_"
   ]
  },
  {
   "cell_type": "markdown",
   "metadata": {},
   "source": [
    "### Tuning max_depth"
   ]
  },
  {
   "cell_type": "code",
   "execution_count": 9,
   "metadata": {
    "collapsed": true
   },
   "outputs": [],
   "source": [
    "if RunCV:\n",
    "    grid_max_depth = get_grid_cv(X_train,y_train,RandomForestRegressor(max_features='sqrt',n_estimators=150),param_grid = {'max_depth':[10,15,20,25,30,35,40,45,50]},fold=5,core=1)\n",
    "    #joblib.dump(grid_max_depth, 'Grid_cv_max_depth_result')\n",
    "    grid_max_depth.best_params_"
   ]
  },
  {
   "cell_type": "markdown",
   "metadata": {},
   "source": [
    "#### From GridSearchCV  we pick 'max_features': 'sqrt' , 'n_estimators': 150 , 'max_depth' : 40"
   ]
  },
  {
   "cell_type": "code",
   "execution_count": 17,
   "metadata": {},
   "outputs": [
    {
     "name": "stdout",
     "output_type": "stream",
     "text": [
      "RMSE: 254.2352070281285 \n",
      "RMSLE: 0.3575503562982025 \n",
      "R2: 0.7540431682222308\n"
     ]
    }
   ],
   "source": [
    "forest_reg = RandomForestRegressor(max_depth=40,max_features='sqrt',n_estimators=150)\n",
    "forest_reg.fit(X_train,y_train)\n",
    "y_pred =forest_reg.predict(X_test)\n",
    "get_measure(y_test,y_pred)"
   ]
  },
  {
   "cell_type": "code",
   "execution_count": 20,
   "metadata": {},
   "outputs": [],
   "source": [
    "feature_importance = forest_reg.feature_importances_"
   ]
  },
  {
   "cell_type": "code",
   "execution_count": 21,
   "metadata": {},
   "outputs": [
    {
     "data": {
      "text/plain": [
       "array([0.0331606 , 0.02580982, 0.03060324, 0.03131921, 0.02149929,\n",
       "       0.01136471, 0.01796823, 0.00148893, 0.0024739 , 0.00112398,\n",
       "       0.05033244, 0.18990001, 0.00436745, 0.00230534, 0.00182467,\n",
       "       0.00258025, 0.00881187, 0.14210641, 0.1008897 , 0.09479205,\n",
       "       0.04373336, 0.11434854, 0.067196  ])"
      ]
     },
     "execution_count": 21,
     "metadata": {},
     "output_type": "execute_result"
    }
   ],
   "source": [
    "feature_importance"
   ]
  },
  {
   "cell_type": "code",
   "execution_count": 22,
   "metadata": {},
   "outputs": [],
   "source": [
    "feat = pd.DataFrame(feature_importance)\n",
    "feat_name = pd.DataFrame(X.columns)\n",
    "feat_df = pd.concat([feat_name,feat],axis=1)\n",
    "feat_df.columns = [\"feature\",\"feature_score\"]\n",
    "feat_df =feat_df.sort_values(by = \"feature_score\")\n",
    "feat_df=feat_df.reset_index(drop=True)"
   ]
  },
  {
   "cell_type": "markdown",
   "metadata": {},
   "source": [
    "### Top 15 features"
   ]
  },
  {
   "cell_type": "code",
   "execution_count": 31,
   "metadata": {},
   "outputs": [
    {
     "data": {
      "text/plain": [
       "<matplotlib.axes._subplots.AxesSubplot at 0x1ea92405748>"
      ]
     },
     "execution_count": 31,
     "metadata": {},
     "output_type": "execute_result"
    },
    {
     "data": {
      "image/png": "[encoded data removed]",
      "text/plain": [
       "<Figure size 432x288 with 1 Axes>"
      ]
     },
     "metadata": {
      "needs_background": "light"
     },
     "output_type": "display_data"
    }
   ],
   "source": [
    "feat_df[-15:].plot.barh(x= 'feature',y = 'feature_score',align='center')"
   ]
  },
  {
   "cell_type": "code",
   "execution_count": 74,
   "metadata": {},
   "outputs": [],
   "source": [
    "aaa = [1,2,3,4,5]"
   ]
  },
  {
   "cell_type": "code",
   "execution_count": 81,
   "metadata": {},
   "outputs": [],
   "source": [
    "All_R2 = pd.DataFrame(np.array([0.64,0.65,0.47, 0.75]))\n",
    "R2_name = pd.DataFrame(['Linear','Lasso','Decision_Tree','Random_Forest'])\n",
    "R2_bar = pd.concat([R2_name,All_R2],axis=1)\n",
    "R2_bar.columns = [\"Models\",\"R2\"]\n",
    "R2_bar =R2_bar.sort_values(by = \"R2\")\n",
    "R2_bar=R2_bar.reset_index(drop=True)"
   ]
  },
  {
   "cell_type": "code",
   "execution_count": 85,
   "metadata": {},
   "outputs": [
    {
     "data": {
      "text/plain": [
       "<matplotlib.axes._subplots.AxesSubplot at 0x1ebc7d716a0>"
      ]
     },
     "execution_count": 85,
     "metadata": {},
     "output_type": "execute_result"
    },
    {
     "data": {
      "image/png": "[encoded data removed]",
      "text/plain": [
       "<Figure size 432x288 with 1 Axes>"
      ]
     },
     "metadata": {
      "needs_background": "light"
     },
     "output_type": "display_data"
    }
   ],
   "source": [
    "R2_bar.plot.barh(x= \"Models\",y = 'R2',align='center')"
   ]
  },
  {
   "cell_type": "markdown",
   "metadata": {},
   "source": [
    "### From the R2 plot. The Random_Forest performaces best"
   ]
  },
  {
   "cell_type": "code",
   "execution_count": 3,
   "metadata": {},
   "outputs": [],
   "source": [
    "All_RMSE = pd.DataFrame(np.array([305.82,304.23,371.41,254.24]))\n",
    "RMSE_name = pd.DataFrame(['Linear','Lasso','Decision_Tree','Random_Forest'])\n",
    "RMSE_bar = pd.concat([RMSE_name,All_RMSE],axis=1)\n",
    "RMSE_bar.columns = [\"Models\",\"RMSE\"]\n",
    "RMSE_bar =RMSE_bar.sort_values(by = \"RMSE\",ascending=False)\n",
    "RMSE_bar=RMSE_bar.reset_index(drop=True)"
   ]
  },
  {
   "cell_type": "code",
   "execution_count": 4,
   "metadata": {},
   "outputs": [
    {
     "data": {
      "text/plain": [
       "<matplotlib.axes._subplots.AxesSubplot at 0x142231b46a0>"
      ]
     },
     "execution_count": 4,
     "metadata": {},
     "output_type": "execute_result"
    },
    {
     "data": {
      "image/png": "[encoded data removed]",
      "text/plain": [
       "<Figure size 432x288 with 1 Axes>"
      ]
     },
     "metadata": {
      "needs_background": "light"
     },
     "output_type": "display_data"
    }
   ],
   "source": [
    "RMSE_bar.plot.barh(x= \"Models\",y = 'RMSE',align='center')"
   ]
  },
  {
   "cell_type": "markdown",
   "metadata": {},
   "source": [
    "#### From the RMSE plot. The Random_Forest performaces best"
   ]
  },
  {
   "cell_type": "markdown",
   "metadata": {},
   "source": [
    "## Testing"
   ]
  },
  {
   "cell_type": "markdown",
   "metadata": {},
   "source": [
    "### Combine weather data"
   ]
  },
  {
   "cell_type": "code",
   "execution_count": 36,
   "metadata": {},
   "outputs": [],
   "source": [
    "import pandas as pd\n",
    "import os\n",
    "import matplotlib.pyplot as plt\n",
    "import pygeohash as pgh\n",
    "pd.set_option('display.max_columns', 500)\n",
    "os.environ[\"GOOGLE_APPLICATION_CREDENTIALS\"]=\"4990-52a2635c2722.json\""
   ]
  },
  {
   "cell_type": "code",
   "execution_count": 37,
   "metadata": {},
   "outputs": [],
   "source": [
    "from google.cloud import bigquery\n",
    "client = bigquery.Client()\n",
    "query=(\n",
    "'''\n",
    "select concat(year,'-',mo,'-',da) as date_of_year2,year,mo,da,temp,visib,wdsp,prcp,fog,rain_drizzle,snow_ice_pellets\n",
    "from `bigquery-public-data.noaa_gsod.gsod2015` where stn='725053'\n",
    "''')\n",
    "\n",
    "weather_2015 = pd.io.gbq.read_gbq(query,dialect='standard')"
   ]
  },
  {
   "cell_type": "code",
   "execution_count": 38,
   "metadata": {},
   "outputs": [],
   "source": [
    "df_test = pd.read_csv('APM4990_final_test_data_filtered.csv')"
   ]
  },
  {
   "cell_type": "code",
   "execution_count": 39,
   "metadata": {},
   "outputs": [],
   "source": [
    "df_test.insert(loc=0,column = 'datetime', value =pd.to_datetime(df_test['pickup_datetime']))\n",
    "df_test.insert(loc = 0, column = 'date_of_year2',value=df_test['datetime'].apply(lambda x: x.strftime('%Y-%m-%d')))\n",
    "df_test = pd.merge(df_test, weather_2015, how='left', on=['date_of_year2'])\n",
    "df_test['Hour']=df_test.datetime.dt.hour\n",
    "df_test['week']=df_test.datetime.dt.dayofweek\n",
    "df_test['week_index']= df_test['week'].apply(lambda x: 0 if x==5 or x==6 else 1 )\n",
    "df_test = df_test.drop(['date_of_year2','pickup_datetime','passenger_count','year','da','week'],axis=1)\n",
    "df_test.rename(columns={'datetime':'pickup_datetime'}, inplace=True)"
   ]
  },
  {
   "cell_type": "code",
   "execution_count": 69,
   "metadata": {},
   "outputs": [],
   "source": [
    "def date_trans(date):\n",
    "    return pd.to_datetime(date).strftime(\"%Y-%m-%d %H:%M:%S\")"
   ]
  },
  {
   "cell_type": "code",
   "execution_count": 70,
   "metadata": {},
   "outputs": [],
   "source": [
    "df_test['pickup_datetime'] = df_test.apply(lambda x: date_trans(x['pickup_datetime']),axis=1)"
   ]
  },
  {
   "cell_type": "code",
   "execution_count": 71,
   "metadata": {},
   "outputs": [
    {
     "data": {
      "text/html": [
       "<div>\n",
       "<style scoped>\n",
       "    .dataframe tbody tr th:only-of-type {\n",
       "        vertical-align: middle;\n",
       "    }\n",
       "\n",
       "    .dataframe tbody tr th {\n",
       "        vertical-align: top;\n",
       "    }\n",
       "\n",
       "    .dataframe thead th {\n",
       "        text-align: right;\n",
       "    }\n",
       "</style>\n",
       "<table border=\"1\" class=\"dataframe\">\n",
       "  <thead>\n",
       "    <tr style=\"text-align: right;\">\n",
       "      <th></th>\n",
       "      <th>pickup_datetime</th>\n",
       "      <th>pickup_latitude</th>\n",
       "      <th>pickup_longitude</th>\n",
       "      <th>dropoff_latitude</th>\n",
       "      <th>dropoff_longitude</th>\n",
       "      <th>mo</th>\n",
       "      <th>temp</th>\n",
       "      <th>visib</th>\n",
       "      <th>wdsp</th>\n",
       "      <th>prcp</th>\n",
       "      <th>fog</th>\n",
       "      <th>rain_drizzle</th>\n",
       "      <th>snow_ice_pellets</th>\n",
       "      <th>Hour</th>\n",
       "      <th>week_index</th>\n",
       "      <th>rain_Light</th>\n",
       "      <th>rain_Moderate</th>\n",
       "      <th>rain_No</th>\n",
       "      <th>rush_hour_ind</th>\n",
       "      <th>pickup_geohash</th>\n",
       "      <th>dropoff_geohash</th>\n",
       "      <th>gh</th>\n",
       "    </tr>\n",
       "  </thead>\n",
       "  <tbody>\n",
       "    <tr>\n",
       "      <th>0</th>\n",
       "      <td>2018-06-15 21:52:45</td>\n",
       "      <td>40.702740</td>\n",
       "      <td>-74.011650</td>\n",
       "      <td>40.773361</td>\n",
       "      <td>-73.990311</td>\n",
       "      <td>06</td>\n",
       "      <td>66.8</td>\n",
       "      <td>9.8</td>\n",
       "      <td>3.3</td>\n",
       "      <td>0.00</td>\n",
       "      <td>0</td>\n",
       "      <td>0</td>\n",
       "      <td>0</td>\n",
       "      <td>21</td>\n",
       "      <td>1</td>\n",
       "      <td>0</td>\n",
       "      <td>0</td>\n",
       "      <td>1</td>\n",
       "      <td>0</td>\n",
       "      <td>dr5rec</td>\n",
       "      <td>dr5ruq</td>\n",
       "      <td>dr5recdr5ruq</td>\n",
       "    </tr>\n",
       "    <tr>\n",
       "      <th>1</th>\n",
       "      <td>2008-11-15 02:22:25</td>\n",
       "      <td>40.733608</td>\n",
       "      <td>-74.003098</td>\n",
       "      <td>40.836803</td>\n",
       "      <td>-73.941643</td>\n",
       "      <td>11</td>\n",
       "      <td>51.9</td>\n",
       "      <td>10.0</td>\n",
       "      <td>4.0</td>\n",
       "      <td>0.00</td>\n",
       "      <td>0</td>\n",
       "      <td>0</td>\n",
       "      <td>0</td>\n",
       "      <td>2</td>\n",
       "      <td>0</td>\n",
       "      <td>0</td>\n",
       "      <td>0</td>\n",
       "      <td>1</td>\n",
       "      <td>0</td>\n",
       "      <td>dr5rsp</td>\n",
       "      <td>dr72m6</td>\n",
       "      <td>dr5rspdr72m6</td>\n",
       "    </tr>\n",
       "    <tr>\n",
       "      <th>2</th>\n",
       "      <td>2013-02-15 04:11:11</td>\n",
       "      <td>40.730911</td>\n",
       "      <td>-74.001442</td>\n",
       "      <td>40.665699</td>\n",
       "      <td>-73.956909</td>\n",
       "      <td>02</td>\n",
       "      <td>16.1</td>\n",
       "      <td>10.0</td>\n",
       "      <td>8.8</td>\n",
       "      <td>0.00</td>\n",
       "      <td>0</td>\n",
       "      <td>0</td>\n",
       "      <td>0</td>\n",
       "      <td>4</td>\n",
       "      <td>1</td>\n",
       "      <td>0</td>\n",
       "      <td>0</td>\n",
       "      <td>1</td>\n",
       "      <td>0</td>\n",
       "      <td>dr5rsn</td>\n",
       "      <td>dr5rm4</td>\n",
       "      <td>dr5rsndr5rm4</td>\n",
       "    </tr>\n",
       "    <tr>\n",
       "      <th>3</th>\n",
       "      <td>2023-07-15 09:14:04</td>\n",
       "      <td>40.774078</td>\n",
       "      <td>-73.874550</td>\n",
       "      <td>40.749939</td>\n",
       "      <td>-73.991203</td>\n",
       "      <td>07</td>\n",
       "      <td>76.7</td>\n",
       "      <td>10.0</td>\n",
       "      <td>4.1</td>\n",
       "      <td>0.00</td>\n",
       "      <td>0</td>\n",
       "      <td>0</td>\n",
       "      <td>0</td>\n",
       "      <td>9</td>\n",
       "      <td>1</td>\n",
       "      <td>0</td>\n",
       "      <td>0</td>\n",
       "      <td>1</td>\n",
       "      <td>1</td>\n",
       "      <td>dr5ryy</td>\n",
       "      <td>dr5ru6</td>\n",
       "      <td>dr5ryydr5ru6</td>\n",
       "    </tr>\n",
       "    <tr>\n",
       "      <th>4</th>\n",
       "      <td>2007-01-15 18:06:43</td>\n",
       "      <td>40.791588</td>\n",
       "      <td>-73.964874</td>\n",
       "      <td>40.792084</td>\n",
       "      <td>-73.968254</td>\n",
       "      <td>01</td>\n",
       "      <td>20.7</td>\n",
       "      <td>9.7</td>\n",
       "      <td>9.5</td>\n",
       "      <td>0.05</td>\n",
       "      <td>0</td>\n",
       "      <td>0</td>\n",
       "      <td>0</td>\n",
       "      <td>18</td>\n",
       "      <td>1</td>\n",
       "      <td>1</td>\n",
       "      <td>0</td>\n",
       "      <td>0</td>\n",
       "      <td>1</td>\n",
       "      <td>dr72hc</td>\n",
       "      <td>dr72hc</td>\n",
       "      <td>dr72hcdr72hc</td>\n",
       "    </tr>\n",
       "  </tbody>\n",
       "</table>\n",
       "</div>"
      ],
      "text/plain": [
       "       pickup_datetime  pickup_latitude  pickup_longitude  dropoff_latitude  \\\n",
       "0  2018-06-15 21:52:45        40.702740        -74.011650         40.773361   \n",
       "1  2008-11-15 02:22:25        40.733608        -74.003098         40.836803   \n",
       "2  2013-02-15 04:11:11        40.730911        -74.001442         40.665699   \n",
       "3  2023-07-15 09:14:04        40.774078        -73.874550         40.749939   \n",
       "4  2007-01-15 18:06:43        40.791588        -73.964874         40.792084   \n",
       "\n",
       "   dropoff_longitude  mo  temp  visib wdsp  prcp fog rain_drizzle  \\\n",
       "0         -73.990311  06  66.8    9.8  3.3  0.00   0            0   \n",
       "1         -73.941643  11  51.9   10.0  4.0  0.00   0            0   \n",
       "2         -73.956909  02  16.1   10.0  8.8  0.00   0            0   \n",
       "3         -73.991203  07  76.7   10.0  4.1  0.00   0            0   \n",
       "4         -73.968254  01  20.7    9.7  9.5  0.05   0            0   \n",
       "\n",
       "  snow_ice_pellets  Hour  week_index  rain_Light  rain_Moderate  rain_No  \\\n",
       "0                0    21           1           0              0        1   \n",
       "1                0     2           0           0              0        1   \n",
       "2                0     4           1           0              0        1   \n",
       "3                0     9           1           0              0        1   \n",
       "4                0    18           1           1              0        0   \n",
       "\n",
       "   rush_hour_ind pickup_geohash dropoff_geohash            gh  \n",
       "0              0         dr5rec          dr5ruq  dr5recdr5ruq  \n",
       "1              0         dr5rsp          dr72m6  dr5rspdr72m6  \n",
       "2              0         dr5rsn          dr5rm4  dr5rsndr5rm4  \n",
       "3              1         dr5ryy          dr5ru6  dr5ryydr5ru6  \n",
       "4              1         dr72hc          dr72hc  dr72hcdr72hc  "
      ]
     },
     "execution_count": 71,
     "metadata": {},
     "output_type": "execute_result"
    }
   ],
   "source": [
    "df_test.head()"
   ]
  },
  {
   "cell_type": "markdown",
   "metadata": {},
   "source": [
    "### Construct testing features"
   ]
  },
  {
   "cell_type": "code",
   "execution_count": 40,
   "metadata": {},
   "outputs": [],
   "source": [
    "from math import radians, cos, sin, asin, sqrt,acos\n",
    "def RADIANS(x):\n",
    "    return acos(-1)*x / 180\n",
    "def RADIANS_TO_KM(x):\n",
    "    return 111.045 * 180 * x / acos(-1)\n",
    "def HAVERSINE(lat1,long1,lat2,long2):    \n",
    "    distance =  RADIANS_TO_KM(\n",
    "    acos(round(cos(RADIANS(lat1)) * cos(RADIANS(lat2)) *\n",
    "         cos(RADIANS(long1) - RADIANS(long2)) +\n",
    "         sin(RADIANS(lat1)) * sin(RADIANS(lat2)),15)))\n",
    "    return distance\n",
    "\n",
    "\n",
    "def rain_level(prcp):\n",
    "    if prcp==0.0:\n",
    "        return 'No'\n",
    "    elif (prcp>0.0) & (prcp<0.098):\n",
    "        return 'Light'\n",
    "    elif (prcp>=0.098) & (prcp<0.39):\n",
    "        return 'Moderate'\n",
    "    else:\n",
    "        return 'Heavy'\n",
    "    "
   ]
  },
  {
   "cell_type": "code",
   "execution_count": 41,
   "metadata": {},
   "outputs": [],
   "source": [
    "df_test['rain_level'] = df_test.apply(lambda x: rain_level(x['prcp']),axis=1)"
   ]
  },
  {
   "cell_type": "code",
   "execution_count": 42,
   "metadata": {},
   "outputs": [],
   "source": [
    "df_test = pd.get_dummies(df_test,columns=['rain_level'],prefix=['rain'],drop_first=True)"
   ]
  },
  {
   "cell_type": "code",
   "execution_count": 43,
   "metadata": {},
   "outputs": [],
   "source": [
    "rush_hour = [7,8,9,10,15,16,17,18,19]\n",
    "df_test['rush_hour_ind']=df_test['Hour'].apply(lambda x: 1 if x in rush_hour else 0)"
   ]
  },
  {
   "cell_type": "code",
   "execution_count": 44,
   "metadata": {},
   "outputs": [],
   "source": [
    "# We obtain geohash with precision = 6 for all data\n",
    "df_test['pickup_geohash'] = df_test.apply(lambda x: pgh.encode(x['pickup_latitude'], x['pickup_longitude'],precision=6), axis=1)\n",
    "df_test['dropoff_geohash'] = df_test.apply(lambda x: pgh.encode(x['dropoff_latitude'], x['dropoff_longitude'],precision=6), axis=1)\n",
    "df_test['gh'] = df_test['pickup_geohash'] + df_test['dropoff_geohash']\n",
    "df_test_match = df_test[['pickup_datetime','gh','Hour']]\n",
    "df_test_match['data_index'] = 0"
   ]
  },
  {
   "cell_type": "code",
   "execution_count": 72,
   "metadata": {},
   "outputs": [],
   "source": [
    "df_train = pd.read_csv('df_final_w.csv')"
   ]
  },
  {
   "cell_type": "code",
   "execution_count": 47,
   "metadata": {},
   "outputs": [],
   "source": [
    "import datetime\n",
    "df_train['pickup_datetime'] = pd.to_datetime(df_train['pickup_datetime']) - datetime.timedelta(days=365)"
   ]
  },
  {
   "cell_type": "code",
   "execution_count": 48,
   "metadata": {},
   "outputs": [
    {
     "data": {
      "text/html": [
       "<div>\n",
       "<style scoped>\n",
       "    .dataframe tbody tr th:only-of-type {\n",
       "        vertical-align: middle;\n",
       "    }\n",
       "\n",
       "    .dataframe tbody tr th {\n",
       "        vertical-align: top;\n",
       "    }\n",
       "\n",
       "    .dataframe thead th {\n",
       "        text-align: right;\n",
       "    }\n",
       "</style>\n",
       "<table border=\"1\" class=\"dataframe\">\n",
       "  <thead>\n",
       "    <tr style=\"text-align: right;\">\n",
       "      <th></th>\n",
       "      <th>pickup_datetime</th>\n",
       "      <th>gh</th>\n",
       "      <th>Hour</th>\n",
       "      <th>avg_travel_time</th>\n",
       "      <th>avg_hr_travel_time</th>\n",
       "      <th>avg_trip_dist</th>\n",
       "      <th>avg_hr_trip_dist</th>\n",
       "      <th>avg_fare_amount</th>\n",
       "      <th>avg_hr_fare_amount</th>\n",
       "      <th>data_index</th>\n",
       "    </tr>\n",
       "  </thead>\n",
       "  <tbody>\n",
       "    <tr>\n",
       "      <th>0</th>\n",
       "      <td>2015-01-24 14:25:00</td>\n",
       "      <td>dr5rswdr5rgb</td>\n",
       "      <td>14</td>\n",
       "      <td>578.157895</td>\n",
       "      <td>567.000000</td>\n",
       "      <td>1.717895</td>\n",
       "      <td>1.583333</td>\n",
       "      <td>8.710526</td>\n",
       "      <td>8.500000</td>\n",
       "      <td>1</td>\n",
       "    </tr>\n",
       "    <tr>\n",
       "      <th>1</th>\n",
       "      <td>2015-01-24 14:45:02</td>\n",
       "      <td>dr5reudr5rsp</td>\n",
       "      <td>14</td>\n",
       "      <td>486.537313</td>\n",
       "      <td>395.250000</td>\n",
       "      <td>1.596567</td>\n",
       "      <td>1.465000</td>\n",
       "      <td>7.888060</td>\n",
       "      <td>7.125000</td>\n",
       "      <td>1</td>\n",
       "    </tr>\n",
       "    <tr>\n",
       "      <th>2</th>\n",
       "      <td>2015-01-24 14:03:03</td>\n",
       "      <td>dr5ru9dr5rvn</td>\n",
       "      <td>14</td>\n",
       "      <td>626.939394</td>\n",
       "      <td>669.000000</td>\n",
       "      <td>2.404848</td>\n",
       "      <td>2.672000</td>\n",
       "      <td>10.070707</td>\n",
       "      <td>10.700000</td>\n",
       "      <td>1</td>\n",
       "    </tr>\n",
       "    <tr>\n",
       "      <th>3</th>\n",
       "      <td>2015-01-24 14:16:17</td>\n",
       "      <td>dr5rutdr5rur</td>\n",
       "      <td>14</td>\n",
       "      <td>466.283019</td>\n",
       "      <td>571.428571</td>\n",
       "      <td>1.176981</td>\n",
       "      <td>1.275714</td>\n",
       "      <td>7.103774</td>\n",
       "      <td>7.928571</td>\n",
       "      <td>1</td>\n",
       "    </tr>\n",
       "    <tr>\n",
       "      <th>4</th>\n",
       "      <td>2015-01-24 14:12:41</td>\n",
       "      <td>dr5rvpdr5rvj</td>\n",
       "      <td>14</td>\n",
       "      <td>398.503185</td>\n",
       "      <td>492.708333</td>\n",
       "      <td>1.020223</td>\n",
       "      <td>0.950417</td>\n",
       "      <td>6.442675</td>\n",
       "      <td>6.937500</td>\n",
       "      <td>1</td>\n",
       "    </tr>\n",
       "  </tbody>\n",
       "</table>\n",
       "</div>"
      ],
      "text/plain": [
       "      pickup_datetime            gh  Hour  avg_travel_time  \\\n",
       "0 2015-01-24 14:25:00  dr5rswdr5rgb    14       578.157895   \n",
       "1 2015-01-24 14:45:02  dr5reudr5rsp    14       486.537313   \n",
       "2 2015-01-24 14:03:03  dr5ru9dr5rvn    14       626.939394   \n",
       "3 2015-01-24 14:16:17  dr5rutdr5rur    14       466.283019   \n",
       "4 2015-01-24 14:12:41  dr5rvpdr5rvj    14       398.503185   \n",
       "\n",
       "   avg_hr_travel_time  avg_trip_dist  avg_hr_trip_dist  avg_fare_amount  \\\n",
       "0          567.000000       1.717895          1.583333         8.710526   \n",
       "1          395.250000       1.596567          1.465000         7.888060   \n",
       "2          669.000000       2.404848          2.672000        10.070707   \n",
       "3          571.428571       1.176981          1.275714         7.103774   \n",
       "4          492.708333       1.020223          0.950417         6.442675   \n",
       "\n",
       "   avg_hr_fare_amount  data_index  \n",
       "0            8.500000           1  \n",
       "1            7.125000           1  \n",
       "2           10.700000           1  \n",
       "3            7.928571           1  \n",
       "4            6.937500           1  "
      ]
     },
     "execution_count": 48,
     "metadata": {},
     "output_type": "execute_result"
    }
   ],
   "source": [
    "df_train_match = df_train[['pickup_datetime','gh','Hour','avg_travel_time','avg_hr_travel_time','avg_trip_dist','avg_hr_trip_dist','avg_fare_amount','avg_hr_fare_amount']]\n",
    "df_train_match['data_index'] = 1\n",
    "df_train_match.head()"
   ]
  },
  {
   "cell_type": "code",
   "execution_count": 51,
   "metadata": {},
   "outputs": [],
   "source": [
    "df_merge = pd.concat([df_test_match,df_train_match], axis=0, ignore_index=True)"
   ]
  },
  {
   "cell_type": "code",
   "execution_count": null,
   "metadata": {},
   "outputs": [],
   "source": [
    "df_merge['avg_travel_time'] = df_merge.sort_values('pickup_datetime').groupby(['gh'])['avg_travel_time'].fillna(method='ffill')\n",
    "df_merge['avg_trip_dist'] = df_merge.sort_values('pickup_datetime').groupby(['gh'])['avg_trip_dist'].fillna(method='ffill')\n",
    "df_merge['avg_fare_amount'] = df_merge.sort_values('pickup_datetime').groupby(['gh'])['avg_fare_amount'].fillna(method='ffill')"
   ]
  },
  {
   "cell_type": "code",
   "execution_count": null,
   "metadata": {
    "collapsed": true
   },
   "outputs": [],
   "source": [
    "df_merge['avg_hr_travel_time'] = df_merge.sort_values('pickup_datetime').groupby(['gh','Hour'])['avg_hr_travel_time'].fillna(method='ffill')\n",
    "df_merge['avg_hr_trip_dist'] = df_merge.sort_values('pickup_datetime').groupby(['gh','Hour'])['avg_hr_trip_dist'].fillna(method='ffill')\n",
    "df_merge['avg_hr_fare_amount'] = df_merge.sort_values('pickup_datetime').groupby(['gh','Hour'])['avg_hr_fare_amount'].fillna(method='ffill')"
   ]
  },
  {
   "cell_type": "code",
   "execution_count": null,
   "metadata": {
    "collapsed": true
   },
   "outputs": [],
   "source": [
    "df_merge_test = df_merge[df_merge['data_index'] == 0]"
   ]
  },
  {
   "cell_type": "code",
   "execution_count": null,
   "metadata": {
    "collapsed": true
   },
   "outputs": [],
   "source": [
    "df_test['avg_fare_amount'] = df_merge_test['avg_fare_amount']\n",
    "df_test['avg_hr_fare_amount'] = df_merge_test['avg_hr_fare_amount']\n",
    "df_test['avg_hr_travel_time'] = df_merge_test['avg_hr_travel_time']\n",
    "df_test['avg_hr_trip_dist'] = df_merge_test['avg_hr_trip_dist']\n",
    "df_test['avg_travel_time'] = df_merge_test['avg_travel_time']\n",
    "df_test['avg_trip_dist'] = df_merge_test['avg_trip_dist']"
   ]
  },
  {
   "cell_type": "code",
   "execution_count": null,
   "metadata": {
    "collapsed": true
   },
   "outputs": [],
   "source": [
    "df_test.isnull().sum()"
   ]
  },
  {
   "cell_type": "code",
   "execution_count": null,
   "metadata": {
    "collapsed": true
   },
   "outputs": [],
   "source": [
    "df_test = df_test.fillna(0)"
   ]
  },
  {
   "cell_type": "code",
   "execution_count": null,
   "metadata": {
    "collapsed": true
   },
   "outputs": [],
   "source": [
    "df_final = df_test.drop(['pickup_datetime','pickup_geohash','dropoff_geohash','gh','prcp','mo'],axis=1)"
   ]
  },
  {
   "cell_type": "code",
   "execution_count": null,
   "metadata": {
    "collapsed": true
   },
   "outputs": [],
   "source": [
    "df_final['distance_in_km'] = df_final.apply(lambda x: HAVERSINE(x['pickup_latitude'],x['pickup_longitude'],x['dropoff_latitude'],x['dropoff_longitude']),axis=1)"
   ]
  },
  {
   "cell_type": "markdown",
   "metadata": {},
   "source": [
    "## Predicting"
   ]
  },
  {
   "cell_type": "code",
   "execution_count": 4,
   "metadata": {},
   "outputs": [],
   "source": [
    "df_test = pd.read_csv('final_test_df.csv')"
   ]
  },
  {
   "cell_type": "code",
   "execution_count": 6,
   "metadata": {
    "collapsed": true
   },
   "outputs": [],
   "source": [
    "df = pd.read_csv('df_final_w.csv')"
   ]
  },
  {
   "cell_type": "code",
   "execution_count": 15,
   "metadata": {},
   "outputs": [
    {
     "data": {
      "text/plain": [
       "(694047, 23)"
      ]
     },
     "execution_count": 15,
     "metadata": {},
     "output_type": "execute_result"
    }
   ],
   "source": [
    "df_test.shape"
   ]
  },
  {
   "cell_type": "code",
   "execution_count": 11,
   "metadata": {},
   "outputs": [
    {
     "data": {
      "text/plain": [
       "Index(['pickup_latitude', 'pickup_longitude', 'dropoff_latitude',\n",
       "       'dropoff_longitude', 'temp', 'visib', 'wdsp', 'fog', 'rain_drizzle',\n",
       "       'snow_ice_pellets', 'Hour', 'week_index', 'rain_Light', 'rain_Moderate',\n",
       "       'rain_No', 'rush_hour_ind', 'avg_fare_amount', 'avg_hr_fare_amount',\n",
       "       'avg_hr_travel_time', 'avg_hr_trip_dist', 'avg_travel_time',\n",
       "       'avg_trip_dist', 'distance_in_km'],\n",
       "      dtype='object')"
      ]
     },
     "execution_count": 11,
     "metadata": {},
     "output_type": "execute_result"
    }
   ],
   "source": [
    "df_test.columns"
   ]
  },
  {
   "cell_type": "code",
   "execution_count": 14,
   "metadata": {},
   "outputs": [
    {
     "data": {
      "text/plain": [
       "Index(['pickup_latitude', 'pickup_longitude', 'dropoff_latitude',\n",
       "       'dropoff_longitude', 'temp', 'visib', 'wdsp', 'fog', 'rain_drizzle',\n",
       "       'snow_ice_pellets', 'Hour', 'week_index', 'rain_Light', 'rain_Moderate',\n",
       "       'rain_No', 'rush_hour_ind', 'avg_fare_amount', 'avg_hr_fare_amount',\n",
       "       'avg_hr_travel_time', 'avg_hr_trip_dist', 'avg_travel_time',\n",
       "       'avg_trip_dist', 'distance_in_km'],\n",
       "      dtype='object')"
      ]
     },
     "execution_count": 14,
     "metadata": {},
     "output_type": "execute_result"
    }
   ],
   "source": [
    "X.columns"
   ]
  },
  {
   "cell_type": "code",
   "execution_count": 12,
   "metadata": {
    "collapsed": true
   },
   "outputs": [],
   "source": [
    "df_final = df[['pickup_latitude', 'pickup_longitude', 'dropoff_latitude',\n",
    "       'dropoff_longitude', 'temp', 'visib', 'wdsp', 'fog', 'rain_drizzle',\n",
    "       'snow_ice_pellets', 'Hour', 'week_index', 'rain_Light', 'rain_Moderate',\n",
    "       'rain_No', 'rush_hour_ind', 'avg_fare_amount', 'avg_hr_fare_amount',\n",
    "       'avg_hr_travel_time', 'avg_hr_trip_dist', 'avg_travel_time',\n",
    "       'avg_trip_dist', 'distance_in_km','travel_time']]"
   ]
  },
  {
   "cell_type": "code",
   "execution_count": 13,
   "metadata": {
    "collapsed": true
   },
   "outputs": [],
   "source": [
    "X = df_final.drop(['travel_time'],axis =1)\n",
    "y = df_final['travel_time']"
   ]
  },
  {
   "cell_type": "markdown",
   "metadata": {},
   "source": [
    "## Train entire data using Random Forest and make prediction"
   ]
  },
  {
   "cell_type": "code",
   "execution_count": 16,
   "metadata": {},
   "outputs": [
    {
     "data": {
      "text/plain": [
       "RandomForestRegressor(bootstrap=True, criterion='mse', max_depth=40,\n",
       "           max_features='sqrt', max_leaf_nodes=None,\n",
       "           min_impurity_decrease=0.0, min_impurity_split=None,\n",
       "           min_samples_leaf=1, min_samples_split=2,\n",
       "           min_weight_fraction_leaf=0.0, n_estimators=150, n_jobs=None,\n",
       "           oob_score=False, random_state=None, verbose=0, warm_start=False)"
      ]
     },
     "execution_count": 16,
     "metadata": {},
     "output_type": "execute_result"
    }
   ],
   "source": [
    "forest_reg = RandomForestRegressor(max_depth=40,max_features='sqrt',n_estimators=150)\n",
    "forest_reg.fit(X,y)"
   ]
  },
  {
   "cell_type": "code",
   "execution_count": 17,
   "metadata": {
    "collapsed": true
   },
   "outputs": [],
   "source": [
    "final_pred = forest_reg.predict(df_test)"
   ]
  },
  {
   "cell_type": "code",
   "execution_count": 19,
   "metadata": {},
   "outputs": [],
   "source": [
    "travel_pred = pd.DataFrame(data ={'travel_time':final_pred})"
   ]
  },
  {
   "cell_type": "code",
   "execution_count": 20,
   "metadata": {},
   "outputs": [
    {
     "data": {
      "text/html": [
       "<div>\n",
       "<style scoped>\n",
       "    .dataframe tbody tr th:only-of-type {\n",
       "        vertical-align: middle;\n",
       "    }\n",
       "\n",
       "    .dataframe tbody tr th {\n",
       "        vertical-align: top;\n",
       "    }\n",
       "\n",
       "    .dataframe thead th {\n",
       "        text-align: right;\n",
       "    }\n",
       "</style>\n",
       "<table border=\"1\" class=\"dataframe\">\n",
       "  <thead>\n",
       "    <tr style=\"text-align: right;\">\n",
       "      <th></th>\n",
       "      <th>travel_time</th>\n",
       "    </tr>\n",
       "  </thead>\n",
       "  <tbody>\n",
       "    <tr>\n",
       "      <th>0</th>\n",
       "      <td>1466.360000</td>\n",
       "    </tr>\n",
       "    <tr>\n",
       "      <th>1</th>\n",
       "      <td>1393.810119</td>\n",
       "    </tr>\n",
       "    <tr>\n",
       "      <th>2</th>\n",
       "      <td>1248.257037</td>\n",
       "    </tr>\n",
       "    <tr>\n",
       "      <th>3</th>\n",
       "      <td>2540.646667</td>\n",
       "    </tr>\n",
       "    <tr>\n",
       "      <th>4</th>\n",
       "      <td>345.853333</td>\n",
       "    </tr>\n",
       "  </tbody>\n",
       "</table>\n",
       "</div>"
      ],
      "text/plain": [
       "   travel_time\n",
       "0  1466.360000\n",
       "1  1393.810119\n",
       "2  1248.257037\n",
       "3  2540.646667\n",
       "4   345.853333"
      ]
     },
     "execution_count": 20,
     "metadata": {},
     "output_type": "execute_result"
    }
   ],
   "source": [
    "travel_pred.head()"
   ]
  },
  {
   "cell_type": "code",
   "execution_count": 21,
   "metadata": {},
   "outputs": [
    {
     "data": {
      "text/plain": [
       "(694047, 1)"
      ]
     },
     "execution_count": 21,
     "metadata": {},
     "output_type": "execute_result"
    }
   ],
   "source": [
    "travel_pred.shape"
   ]
  },
  {
   "cell_type": "code",
   "execution_count": 22,
   "metadata": {
    "collapsed": true
   },
   "outputs": [],
   "source": [
    "travel_pred.to_csv('travel_pred.csv',index=False)"
   ]
  }
 ],
 "metadata": {
  "kernelspec": {
   "display_name": "Python 3",
   "language": "python",
   "name": "python3"
  },
  "language_info": {
   "codemirror_mode": {
    "name": "ipython",
    "version": 3
   },
   "file_extension": ".py",
   "mimetype": "text/x-python",
   "name": "python",
   "nbconvert_exporter": "python",
   "pygments_lexer": "ipython3",
   "version": "3.6.6"
  }
 },
 "nbformat": 4,
 "nbformat_minor": 2
}
